{
 "cells": [
  {
   "cell_type": "code",
   "execution_count": 146,
   "metadata": {},
   "outputs": [],
   "source": [
    "import numpy as np"
   ]
  },
  {
   "cell_type": "code",
   "execution_count": 147,
   "metadata": {},
   "outputs": [],
   "source": [
    "import pandas as pd"
   ]
  },
  {
   "cell_type": "code",
   "execution_count": 148,
   "metadata": {},
   "outputs": [],
   "source": [
    "import matplotlib.pyplot as plt"
   ]
  },
  {
   "cell_type": "code",
   "execution_count": 149,
   "metadata": {},
   "outputs": [],
   "source": [
    "func = pd.read_csv('./POPDATA.csv')"
   ]
  },
  {
   "cell_type": "code",
   "execution_count": 150,
   "metadata": {},
   "outputs": [],
   "source": [
    "data = pd.DataFrame(func)"
   ]
  },
  {
   "cell_type": "code",
   "execution_count": 151,
   "metadata": {},
   "outputs": [],
   "source": [
    "# Clean Data from csv\n",
    "\n",
    "data.replace(',','',regex=True,inplace=True)\n",
    "\n",
    "data['2010'] = data['2010'].astype(int)\n",
    "data['2015'] = data['2015'].astype(int)\n",
    "data['2019'] = data['2019'].astype(int)\n",
    "\n",
    "data = data[data['2010']!=0]\n",
    "data = data[data['2015']!=0]\n",
    "data = data[data['2019']!=0]"
   ]
  },
  {
   "cell_type": "code",
   "execution_count": 152,
   "metadata": {},
   "outputs": [],
   "source": [
    "# calculate total change between time periods\n",
    "\n",
    "data['TOTAL_2010-2015'] = data['2015'] - data['2010']\n",
    "data['TOTAL_2015-2019'] = data['2019'] - data['2015']\n",
    "data['TOTAL_2010-2019'] = data['2019'] - data['2010']\n"
   ]
  },
  {
   "cell_type": "code",
   "execution_count": 153,
   "metadata": {},
   "outputs": [],
   "source": [
    "# calculate percentage change between time periods\n",
    "data['PCT_2010-2015'] = ((data['2015'] - data['2010'])/data['2010'])\n",
    "data['PCT_2015-2019'] = ((data['2019'] - data['2015'])/data['2015'])\n",
    "data['PCT_2010-2019'] = ((data['2019'] - data['2010'])/data['2010'])\n",
    "\n"
   ]
  },
  {
   "cell_type": "code",
   "execution_count": 154,
   "metadata": {},
   "outputs": [],
   "source": [
    "# remove data with no significant change\n",
    "data.drop(data[data['2010'] < 100].index, inplace=True)\n",
    "data.drop(data[data['2015'] < 100].index, inplace=True)\n",
    "data.drop(data[data['2019'] < 100].index, inplace=True)"
   ]
  },
  {
   "cell_type": "code",
   "execution_count": 155,
   "metadata": {},
   "outputs": [],
   "source": [
    "# clean percentages\n",
    "\n",
    "data['PCT_2010-2015'] = data['PCT_2010-2015'] * 100\n",
    "data['PCT_2015-2019'] = data['PCT_2015-2019'] * 100\n",
    "data['PCT_2010-2019'] = data['PCT_2010-2019'] * 100\n",
    "\n",
    "data = data.round(2)"
   ]
  },
  {
   "cell_type": "code",
   "execution_count": 130,
   "metadata": {},
   "outputs": [],
   "source": [
    "# data.sort_values(by=\"TOTAL_2010-2019\", ascending=False)"
   ]
  },
  {
   "cell_type": "code",
   "execution_count": 131,
   "metadata": {},
   "outputs": [],
   "source": [
    "# data.sort_values(by=\"PCT_2010-2019\", ascending=False)"
   ]
  },
  {
   "cell_type": "code",
   "execution_count": 132,
   "metadata": {},
   "outputs": [],
   "source": [
    "# data.sort_values(by=\"TOTAL_2010-2019\", ascending=True)"
   ]
  },
  {
   "cell_type": "code",
   "execution_count": 133,
   "metadata": {},
   "outputs": [],
   "source": [
    "# data.sort_values(by=\"2019\")"
   ]
  },
  {
   "cell_type": "code",
   "execution_count": 156,
   "metadata": {},
   "outputs": [
    {
     "data": {
      "text/html": [
       "<div>\n",
       "<style scoped>\n",
       "    .dataframe tbody tr th:only-of-type {\n",
       "        vertical-align: middle;\n",
       "    }\n",
       "\n",
       "    .dataframe tbody tr th {\n",
       "        vertical-align: top;\n",
       "    }\n",
       "\n",
       "    .dataframe thead th {\n",
       "        text-align: right;\n",
       "    }\n",
       "</style>\n",
       "<table border=\"1\" class=\"dataframe\">\n",
       "  <thead>\n",
       "    <tr style=\"text-align: right;\">\n",
       "      <th></th>\n",
       "      <th>City</th>\n",
       "      <th>State</th>\n",
       "      <th>2010</th>\n",
       "      <th>2015</th>\n",
       "      <th>2019</th>\n",
       "      <th>TOTAL_2010-2015</th>\n",
       "      <th>TOTAL_2015-2019</th>\n",
       "      <th>TOTAL_2010-2019</th>\n",
       "      <th>PCT_2010-2015</th>\n",
       "      <th>PCT_2015-2019</th>\n",
       "      <th>PCT_2010-2019</th>\n",
       "    </tr>\n",
       "  </thead>\n",
       "  <tbody>\n",
       "    <tr>\n",
       "      <th>7717</th>\n",
       "      <td>Detroit city</td>\n",
       "      <td>Michigan</td>\n",
       "      <td>711131</td>\n",
       "      <td>679410</td>\n",
       "      <td>670031</td>\n",
       "      <td>-31721</td>\n",
       "      <td>-9379</td>\n",
       "      <td>-41100</td>\n",
       "      <td>-4.46</td>\n",
       "      <td>-1.38</td>\n",
       "      <td>-5.78</td>\n",
       "    </tr>\n",
       "    <tr>\n",
       "      <th>14408</th>\n",
       "      <td>Detroit city</td>\n",
       "      <td>Oregon</td>\n",
       "      <td>203</td>\n",
       "      <td>215</td>\n",
       "      <td>225</td>\n",
       "      <td>12</td>\n",
       "      <td>10</td>\n",
       "      <td>22</td>\n",
       "      <td>5.91</td>\n",
       "      <td>4.65</td>\n",
       "      <td>10.84</td>\n",
       "    </tr>\n",
       "  </tbody>\n",
       "</table>\n",
       "</div>"
      ],
      "text/plain": [
       "               City     State    2010    2015    2019  TOTAL_2010-2015  \\\n",
       "7717   Detroit city  Michigan  711131  679410  670031           -31721   \n",
       "14408  Detroit city    Oregon     203     215     225               12   \n",
       "\n",
       "       TOTAL_2015-2019  TOTAL_2010-2019  PCT_2010-2015  PCT_2015-2019  \\\n",
       "7717             -9379           -41100          -4.46          -1.38   \n",
       "14408               10               22           5.91           4.65   \n",
       "\n",
       "       PCT_2010-2019  \n",
       "7717           -5.78  \n",
       "14408          10.84  "
      ]
     },
     "execution_count": 156,
     "metadata": {},
     "output_type": "execute_result"
    }
   ],
   "source": [
    "data.loc[data['City'] == 'Detroit city']"
   ]
  },
  {
   "cell_type": "code",
   "execution_count": null,
   "metadata": {},
   "outputs": [],
   "source": []
  },
  {
   "cell_type": "code",
   "execution_count": null,
   "metadata": {},
   "outputs": [],
   "source": []
  },
  {
   "cell_type": "code",
   "execution_count": null,
   "metadata": {},
   "outputs": [],
   "source": []
  },
  {
   "cell_type": "code",
   "execution_count": null,
   "metadata": {},
   "outputs": [],
   "source": []
  },
  {
   "cell_type": "code",
   "execution_count": null,
   "metadata": {},
   "outputs": [],
   "source": []
  }
 ],
 "metadata": {
  "kernelspec": {
   "display_name": "Python 3",
   "language": "python",
   "name": "python3"
  },
  "language_info": {
   "codemirror_mode": {
    "name": "ipython",
    "version": 3
   },
   "file_extension": ".py",
   "mimetype": "text/x-python",
   "name": "python",
   "nbconvert_exporter": "python",
   "pygments_lexer": "ipython3",
   "version": "3.7.5"
  }
 },
 "nbformat": 4,
 "nbformat_minor": 2
}
