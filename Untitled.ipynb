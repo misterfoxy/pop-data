{
 "cells": [
  {
   "cell_type": "code",
   "execution_count": 1,
   "metadata": {},
   "outputs": [],
   "source": [
    "import numpy as np"
   ]
  },
  {
   "cell_type": "code",
   "execution_count": 2,
   "metadata": {},
   "outputs": [],
   "source": [
    "import pandas as pd"
   ]
  },
  {
   "cell_type": "code",
   "execution_count": 3,
   "metadata": {},
   "outputs": [
    {
     "name": "stdout",
     "output_type": "stream",
     "text": [
      "hello\n"
     ]
    }
   ],
   "source": [
    "print('hello')"
   ]
  },
  {
   "cell_type": "code",
   "execution_count": 6,
   "metadata": {},
   "outputs": [
    {
     "data": {
      "text/html": [
       "<div>\n",
       "<style scoped>\n",
       "    .dataframe tbody tr th:only-of-type {\n",
       "        vertical-align: middle;\n",
       "    }\n",
       "\n",
       "    .dataframe tbody tr th {\n",
       "        vertical-align: top;\n",
       "    }\n",
       "\n",
       "    .dataframe thead th {\n",
       "        text-align: right;\n",
       "    }\n",
       "</style>\n",
       "<table border=\"1\" class=\"dataframe\">\n",
       "  <thead>\n",
       "    <tr style=\"text-align: right;\">\n",
       "      <th></th>\n",
       "      <th>Ballot ID</th>\n",
       "      <th>County</th>\n",
       "      <th>Candidate</th>\n",
       "    </tr>\n",
       "  </thead>\n",
       "  <tbody>\n",
       "    <tr>\n",
       "      <td>0</td>\n",
       "      <td>1323913</td>\n",
       "      <td>Jefferson</td>\n",
       "      <td>Charles Casper Stockham</td>\n",
       "    </tr>\n",
       "    <tr>\n",
       "      <td>1</td>\n",
       "      <td>1005842</td>\n",
       "      <td>Jefferson</td>\n",
       "      <td>Charles Casper Stockham</td>\n",
       "    </tr>\n",
       "    <tr>\n",
       "      <td>2</td>\n",
       "      <td>1880345</td>\n",
       "      <td>Jefferson</td>\n",
       "      <td>Charles Casper Stockham</td>\n",
       "    </tr>\n",
       "    <tr>\n",
       "      <td>3</td>\n",
       "      <td>1600337</td>\n",
       "      <td>Jefferson</td>\n",
       "      <td>Charles Casper Stockham</td>\n",
       "    </tr>\n",
       "    <tr>\n",
       "      <td>4</td>\n",
       "      <td>1835994</td>\n",
       "      <td>Jefferson</td>\n",
       "      <td>Charles Casper Stockham</td>\n",
       "    </tr>\n",
       "    <tr>\n",
       "      <td>...</td>\n",
       "      <td>...</td>\n",
       "      <td>...</td>\n",
       "      <td>...</td>\n",
       "    </tr>\n",
       "    <tr>\n",
       "      <td>369706</td>\n",
       "      <td>4714953</td>\n",
       "      <td>Arapahoe</td>\n",
       "      <td>Raymon Anthony Doane</td>\n",
       "    </tr>\n",
       "    <tr>\n",
       "      <td>369707</td>\n",
       "      <td>4497542</td>\n",
       "      <td>Arapahoe</td>\n",
       "      <td>Raymon Anthony Doane</td>\n",
       "    </tr>\n",
       "    <tr>\n",
       "      <td>369708</td>\n",
       "      <td>4085849</td>\n",
       "      <td>Arapahoe</td>\n",
       "      <td>Raymon Anthony Doane</td>\n",
       "    </tr>\n",
       "    <tr>\n",
       "      <td>369709</td>\n",
       "      <td>4592018</td>\n",
       "      <td>Arapahoe</td>\n",
       "      <td>Raymon Anthony Doane</td>\n",
       "    </tr>\n",
       "    <tr>\n",
       "      <td>369710</td>\n",
       "      <td>4660518</td>\n",
       "      <td>Arapahoe</td>\n",
       "      <td>Raymon Anthony Doane</td>\n",
       "    </tr>\n",
       "  </tbody>\n",
       "</table>\n",
       "<p>369711 rows × 3 columns</p>\n",
       "</div>"
      ],
      "text/plain": [
       "        Ballot ID     County                Candidate\n",
       "0         1323913  Jefferson  Charles Casper Stockham\n",
       "1         1005842  Jefferson  Charles Casper Stockham\n",
       "2         1880345  Jefferson  Charles Casper Stockham\n",
       "3         1600337  Jefferson  Charles Casper Stockham\n",
       "4         1835994  Jefferson  Charles Casper Stockham\n",
       "...           ...        ...                      ...\n",
       "369706    4714953   Arapahoe     Raymon Anthony Doane\n",
       "369707    4497542   Arapahoe     Raymon Anthony Doane\n",
       "369708    4085849   Arapahoe     Raymon Anthony Doane\n",
       "369709    4592018   Arapahoe     Raymon Anthony Doane\n",
       "369710    4660518   Arapahoe     Raymon Anthony Doane\n",
       "\n",
       "[369711 rows x 3 columns]"
      ]
     },
     "execution_count": 6,
     "metadata": {},
     "output_type": "execute_result"
    }
   ],
   "source": [
    "pd.read_csv('./election_results.csv')"
   ]
  },
  {
   "cell_type": "code",
   "execution_count": null,
   "metadata": {},
   "outputs": [],
   "source": []
  }
 ],
 "metadata": {
  "kernelspec": {
   "display_name": "Python 3",
   "language": "python",
   "name": "python3"
  },
  "language_info": {
   "codemirror_mode": {
    "name": "ipython",
    "version": 3
   },
   "file_extension": ".py",
   "mimetype": "text/x-python",
   "name": "python",
   "nbconvert_exporter": "python",
   "pygments_lexer": "ipython3",
   "version": "3.7.4"
  }
 },
 "nbformat": 4,
 "nbformat_minor": 2
}
